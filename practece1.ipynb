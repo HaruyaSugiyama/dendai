{
  "nbformat": 4,
  "nbformat_minor": 0,
  "metadata": {
    "colab": {
      "provenance": [],
      "authorship_tag": "ABX9TyPLZhM9KTwhll0iwrczdI13",
      "include_colab_link": true
    },
    "kernelspec": {
      "name": "python3",
      "display_name": "Python 3"
    },
    "language_info": {
      "name": "python"
    }
  },
  "cells": [
    {
      "cell_type": "markdown",
      "metadata": {
        "id": "view-in-github",
        "colab_type": "text"
      },
      "source": [
        "<a href=\"https://colab.research.google.com/github/HaruyaSugiyama/dendai/blob/main/practece1.ipynb\" target=\"_parent\"><img src=\"https://colab.research.google.com/assets/colab-badge.svg\" alt=\"Open In Colab\"/></a>"
      ]
    },
    {
      "cell_type": "code",
      "execution_count": null,
      "metadata": {
        "id": "jA4QyVmp8Wum"
      },
      "outputs": [],
      "source": []
    },
    {
      "cell_type": "markdown",
      "source": [
        "## **ようこそPyhonの世界へ**\n",
        "Pyhonは特にデータ分析、AIの分野で注目されています。\n",
        "他にもWebアプリケーション、IOTなどの幅広い分野でも使います。\n"
      ],
      "metadata": {
        "id": "vmZGB6Hv8b_N"
      }
    },
    {
      "cell_type": "markdown",
      "source": [
        "複数の文字を表示しましょう。"
      ],
      "metadata": {
        "id": "CtJ9-_iE8c2n"
      }
    },
    {
      "cell_type": "code",
      "source": [
        "print('杉山晴哉')\n",
        "print('21歳')\n",
        "print('三度の飯よりゲームが好き')"
      ],
      "metadata": {
        "colab": {
          "base_uri": "https://localhost:8080/"
        },
        "id": "JR1Pj9nh9pDx",
        "outputId": "7281f140-ade0-44f4-ff0a-5f44eae587e8"
      },
      "execution_count": 1,
      "outputs": [
        {
          "output_type": "stream",
          "name": "stdout",
          "text": [
            "杉山晴哉\n",
            "21歳\n",
            "三度の飯よりゲームが好き\n"
          ]
        }
      ]
    },
    {
      "cell_type": "markdown",
      "source": [
        "# **第一部Pyhonの基礎を学ぼう**\n",
        "\n",
        "# **chapter１変数とデータ型**\n",
        "**1.1数値と演算**\n",
        "\n",
        "コード1-1\n",
        "print関数で数値を書く\n"
      ],
      "metadata": {
        "id": "qNXuRbJf-APB"
      }
    },
    {
      "cell_type": "code",
      "source": [
        "print(1)\n",
        "print(10)\n"
      ],
      "metadata": {
        "colab": {
          "base_uri": "https://localhost:8080/"
        },
        "id": "BbuklNuOCxxA",
        "outputId": "ee5098bb-b877-4160-f178-be6a5aa9b82b"
      },
      "execution_count": 2,
      "outputs": [
        {
          "output_type": "stream",
          "name": "stdout",
          "text": [
            "1\n",
            "10\n"
          ]
        }
      ]
    },
    {
      "cell_type": "markdown",
      "source": [
        "コード1-2加算と減算"
      ],
      "metadata": {
        "id": "bGM8huJ2C9oq"
      }
    },
    {
      "cell_type": "code",
      "source": [
        "print(1+1)\n",
        "print(10-2)"
      ],
      "metadata": {
        "colab": {
          "base_uri": "https://localhost:8080/"
        },
        "id": "dlMxEVFTDl5n",
        "outputId": "916ff213-0f21-42bc-dcc0-806754c67176"
      },
      "execution_count": 3,
      "outputs": [
        {
          "output_type": "stream",
          "name": "stdout",
          "text": [
            "2\n",
            "8\n"
          ]
        }
      ]
    },
    {
      "cell_type": "markdown",
      "source": [
        "1.1.2**文字列の演算**"
      ],
      "metadata": {
        "id": "53bRRN50Esn5"
      }
    },
    {
      "cell_type": "markdown",
      "source": [
        "コード1-3　文字列の演算"
      ],
      "metadata": {
        "id": "iB9cogqtE9QY"
      }
    },
    {
      "cell_type": "code",
      "source": [
        "print('1'+'1')"
      ],
      "metadata": {
        "colab": {
          "base_uri": "https://localhost:8080/"
        },
        "id": "tAtjWvYVFJ9g",
        "outputId": "ce869e99-52d6-4a8b-9c97-0b6850441eed"
      },
      "execution_count": 4,
      "outputs": [
        {
          "output_type": "stream",
          "name": "stdout",
          "text": [
            "11\n"
          ]
        }
      ]
    },
    {
      "cell_type": "markdown",
      "source": [],
      "metadata": {
        "id": "JREnkdC5Jy74"
      }
    },
    {
      "cell_type": "markdown",
      "source": [
        "具体的な値のことをリテラルといいます。\n",
        "数字がそのままの姿で書かれたものを数値リテラルといいシングルクォーテーション(')やダブルクォーテーション(\")で囲んで記述された値は文字列リテラルという"
      ],
      "metadata": {
        "id": "gMBHo3BhF6zK"
      }
    },
    {
      "cell_type": "markdown",
      "source": [
        "コード1-4　文字列の演算応用"
      ],
      "metadata": {
        "id": "vxnermfMIKuj"
      }
    },
    {
      "cell_type": "code",
      "source": [
        "print('Pyhon'+'の世界へようこそ')\n",
        "print('Pyhonは'+'とっても'*3+'楽しいですよ')"
      ],
      "metadata": {
        "colab": {
          "base_uri": "https://localhost:8080/"
        },
        "id": "n7lL7h-vGfGw",
        "outputId": "76cbf973-85b1-422c-e093-a1b4f93fb0a9"
      },
      "execution_count": 5,
      "outputs": [
        {
          "output_type": "stream",
          "name": "stdout",
          "text": [
            "Pyhonの世界へようこそ\n",
            "Pyhonはとってもとってもとっても楽しいですよ\n"
          ]
        }
      ]
    },
    {
      "cell_type": "markdown",
      "source": [
        "1.1.3 エスケープシーケンス"
      ],
      "metadata": {
        "id": "BDlz4PTBJ5JX"
      }
    },
    {
      "cell_type": "code",
      "source": [
        "print('初めまして杉山ですゲームをするのが趣味です')\n",
        "print('はじめまして\\n杉山です\\nゲームをするのが趣味です')\n",
        "print('引用符には、\\'と\\\"があります')"
      ],
      "metadata": {
        "colab": {
          "base_uri": "https://localhost:8080/"
        },
        "id": "eEOuadX9KXVt",
        "outputId": "d907957f-4430-45c2-cf2b-f4ed83e1e806"
      },
      "execution_count": 6,
      "outputs": [
        {
          "output_type": "stream",
          "name": "stdout",
          "text": [
            "初めまして杉山ですゲームをするのが趣味です\n",
            "はじめまして\n",
            "杉山です\n",
            "ゲームをするのが趣味です\n",
            "引用符には、'と\"があります\n"
          ]
        }
      ]
    },
    {
      "cell_type": "markdown",
      "source": [
        "1.1.4 ヒアドキュメント"
      ],
      "metadata": {
        "id": "XU38f4Q2OT0V"
      }
    },
    {
      "cell_type": "code",
      "source": [
        "print('はじめまして\n",
        "すぎやまです\n",
        "      googleピクセルを使っています')"
      ],
      "metadata": {
        "colab": {
          "base_uri": "https://localhost:8080/",
          "height": 106
        },
        "id": "NuRBeD6vOgFD",
        "outputId": "d6cfb20e-1905-413e-bac7-55da8606c9fa"
      },
      "execution_count": 7,
      "outputs": [
        {
          "output_type": "error",
          "ename": "SyntaxError",
          "evalue": "unterminated string literal (detected at line 1) (<ipython-input-7-d35925107761>, line 1)",
          "traceback": [
            "\u001b[0;36m  File \u001b[0;32m\"<ipython-input-7-d35925107761>\"\u001b[0;36m, line \u001b[0;32m1\u001b[0m\n\u001b[0;31m    print('はじめまして\u001b[0m\n\u001b[0m          ^\u001b[0m\n\u001b[0;31mSyntaxError\u001b[0m\u001b[0;31m:\u001b[0m unterminated string literal (detected at line 1)\n"
          ]
        }
      ]
    },
    {
      "cell_type": "markdown",
      "source": [
        "改行を含む文字列をそのまま出力したい場合ヒアドキュメントを使います。"
      ],
      "metadata": {
        "id": "qsK8nCDqQzpJ"
      }
    },
    {
      "cell_type": "code",
      "source": [
        "print('''はじめまして\n",
        "バトラと\n",
        "申します。''')"
      ],
      "metadata": {
        "colab": {
          "base_uri": "https://localhost:8080/"
        },
        "id": "91e3cvdUSdQH",
        "outputId": "6d45500f-5296-4218-d356-baca7c6c3831"
      },
      "execution_count": 8,
      "outputs": [
        {
          "output_type": "stream",
          "name": "stdout",
          "text": [
            "はじめまして\n",
            "バトラと\n",
            "申します。\n"
          ]
        }
      ]
    }
  ]
}